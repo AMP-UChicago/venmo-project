{
 "cells": [
  {
   "cell_type": "code",
   "execution_count": 1,
   "metadata": {
    "collapsed": true
   },
   "outputs": [],
   "source": [
    "import pandas as pd"
   ]
  },
  {
   "cell_type": "code",
   "execution_count": 2,
   "metadata": {
    "collapsed": true
   },
   "outputs": [],
   "source": [
    "data = pd.read_csv('Data/transactions.csv')\n",
    "data = data.drop(['Unnamed: 0', 'Unnamed: 7'], axis=1)\n",
    "data['Date'] = pd.to_datetime(data['Date'])"
   ]
  },
  {
   "cell_type": "code",
   "execution_count": 3,
   "metadata": {},
   "outputs": [
    {
     "data": {
      "text/html": [
       "<div>\n",
       "<style scoped>\n",
       "    .dataframe tbody tr th:only-of-type {\n",
       "        vertical-align: middle;\n",
       "    }\n",
       "\n",
       "    .dataframe tbody tr th {\n",
       "        vertical-align: top;\n",
       "    }\n",
       "\n",
       "    .dataframe thead th {\n",
       "        text-align: right;\n",
       "    }\n",
       "</style>\n",
       "<table border=\"1\" class=\"dataframe\">\n",
       "  <thead>\n",
       "    <tr style=\"text-align: right;\">\n",
       "      <th></th>\n",
       "      <th>payer</th>\n",
       "      <th>receiver</th>\n",
       "      <th>tran_text</th>\n",
       "      <th>Date</th>\n",
       "      <th>dow</th>\n",
       "    </tr>\n",
       "  </thead>\n",
       "  <tbody>\n",
       "    <tr>\n",
       "      <th>0</th>\n",
       "      <td>abacbefabc833a96597289665268d99e58ee1b2e4550dd...</td>\n",
       "      <td>9c044a510cd7333bda6da6a2a364372974a0a8a573ac3f...</td>\n",
       "      <td>:Italy:</td>\n",
       "      <td>2019-01-21</td>\n",
       "      <td>Monday</td>\n",
       "    </tr>\n",
       "    <tr>\n",
       "      <th>1</th>\n",
       "      <td>f0bf2b3ec1598e6ab6ef15ea0251328ca3731e237bdb49...</td>\n",
       "      <td>abacbefabc833a96597289665268d99e58ee1b2e4550dd...</td>\n",
       "      <td>Heroics</td>\n",
       "      <td>2019-01-19</td>\n",
       "      <td>Saturday</td>\n",
       "    </tr>\n",
       "    <tr>\n",
       "      <th>2</th>\n",
       "      <td>abacbefabc833a96597289665268d99e58ee1b2e4550dd...</td>\n",
       "      <td>523c406e16c2856eefb065c2ace781a81a608b6e826ca4...</td>\n",
       "      <td>To regain Kosovo</td>\n",
       "      <td>2019-01-18</td>\n",
       "      <td>Friday</td>\n",
       "    </tr>\n",
       "    <tr>\n",
       "      <th>3</th>\n",
       "      <td>f0bf2b3ec1598e6ab6ef15ea0251328ca3731e237bdb49...</td>\n",
       "      <td>abacbefabc833a96597289665268d99e58ee1b2e4550dd...</td>\n",
       "      <td>Reading at a club</td>\n",
       "      <td>2019-01-18</td>\n",
       "      <td>Friday</td>\n",
       "    </tr>\n",
       "    <tr>\n",
       "      <th>4</th>\n",
       "      <td>abacbefabc833a96597289665268d99e58ee1b2e4550dd...</td>\n",
       "      <td>f0bf2b3ec1598e6ab6ef15ea0251328ca3731e237bdb49...</td>\n",
       "      <td>For the Culture</td>\n",
       "      <td>2019-01-17</td>\n",
       "      <td>Thursday</td>\n",
       "    </tr>\n",
       "  </tbody>\n",
       "</table>\n",
       "</div>"
      ],
      "text/plain": [
       "                                               payer  \\\n",
       "0  abacbefabc833a96597289665268d99e58ee1b2e4550dd...   \n",
       "1  f0bf2b3ec1598e6ab6ef15ea0251328ca3731e237bdb49...   \n",
       "2  abacbefabc833a96597289665268d99e58ee1b2e4550dd...   \n",
       "3  f0bf2b3ec1598e6ab6ef15ea0251328ca3731e237bdb49...   \n",
       "4  abacbefabc833a96597289665268d99e58ee1b2e4550dd...   \n",
       "\n",
       "                                            receiver          tran_text  \\\n",
       "0  9c044a510cd7333bda6da6a2a364372974a0a8a573ac3f...            :Italy:   \n",
       "1  abacbefabc833a96597289665268d99e58ee1b2e4550dd...            Heroics   \n",
       "2  523c406e16c2856eefb065c2ace781a81a608b6e826ca4...   To regain Kosovo   \n",
       "3  abacbefabc833a96597289665268d99e58ee1b2e4550dd...  Reading at a club   \n",
       "4  f0bf2b3ec1598e6ab6ef15ea0251328ca3731e237bdb49...    For the Culture   \n",
       "\n",
       "        Date       dow  \n",
       "0 2019-01-21    Monday  \n",
       "1 2019-01-19  Saturday  \n",
       "2 2019-01-18    Friday  \n",
       "3 2019-01-18    Friday  \n",
       "4 2019-01-17  Thursday  "
      ]
     },
     "execution_count": 3,
     "metadata": {},
     "output_type": "execute_result"
    }
   ],
   "source": [
    "data.head()"
   ]
  },
  {
   "cell_type": "code",
   "execution_count": 7,
   "metadata": {},
   "outputs": [
    {
     "name": "stdout",
     "output_type": "stream",
     "text": [
      "Number of Payers:  245877\n",
      "Number of Receivers:  243751\n"
     ]
    }
   ],
   "source": [
    "# The question is, how many different people are involved in this dataset?\n",
    "\n",
    "num_payers = data['payer'].unique().shape\n",
    "print(\"Number of Payers: \", num_payers[0])\n",
    "num_receivers = data['receiver'].unique().shape\n",
    "print(\"Number of Receivers: \", num_receivers[0])"
   ]
  },
  {
   "cell_type": "code",
   "execution_count": null,
   "metadata": {
    "collapsed": true
   },
   "outputs": [],
   "source": [
    "# So as we can see, there's a lot people involved. \n",
    "# There's simply no way to graph something this large.\n",
    "# So what we want to do is only consider the transactions \n",
    "# for the most active users."
   ]
  }
 ],
 "metadata": {
  "kernelspec": {
   "display_name": "Python 3",
   "language": "python",
   "name": "python3"
  },
  "language_info": {
   "codemirror_mode": {
    "name": "ipython",
    "version": 3
   },
   "file_extension": ".py",
   "mimetype": "text/x-python",
   "name": "python",
   "nbconvert_exporter": "python",
   "pygments_lexer": "ipython3",
   "version": "3.6.3"
  },
  "toc": {
   "base_numbering": 1,
   "nav_menu": {},
   "number_sections": true,
   "sideBar": true,
   "skip_h1_title": false,
   "title_cell": "Table of Contents",
   "title_sidebar": "Contents",
   "toc_cell": false,
   "toc_position": {},
   "toc_section_display": true,
   "toc_window_display": false
  }
 },
 "nbformat": 4,
 "nbformat_minor": 2
}
