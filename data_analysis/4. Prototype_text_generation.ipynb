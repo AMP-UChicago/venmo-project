{
 "cells": [
  {
   "cell_type": "code",
   "execution_count": 1,
   "metadata": {},
   "outputs": [
    {
     "name": "stderr",
     "output_type": "stream",
     "text": [
      "/Users/jinli/anaconda3/lib/python3.6/site-packages/h5py/__init__.py:34: FutureWarning: Conversion of the second argument of issubdtype from `float` to `np.floating` is deprecated. In future, it will be treated as `np.float64 == np.dtype(float).type`.\n",
      "  from ._conv import register_converters as _register_converters\n",
      "Using TensorFlow backend.\n"
     ]
    }
   ],
   "source": [
    "import pandas as pd\n",
    "import numpy as np\n",
    "import re\n",
    "import random\n",
    "import sys\n",
    "\n",
    "from keras import layers\n",
    "from keras.models import Sequential\n",
    "from keras import optimizers"
   ]
  },
  {
   "cell_type": "markdown",
   "metadata": {},
   "source": [
    "# Preview"
   ]
  },
  {
   "cell_type": "code",
   "execution_count": 2,
   "metadata": {},
   "outputs": [
    {
     "name": "stderr",
     "output_type": "stream",
     "text": [
      "b'Skipping line 4403: expected 8 fields, saw 11\\nSkipping line 14589: expected 8 fields, saw 10\\nSkipping line 14605: expected 8 fields, saw 9\\nSkipping line 14644: expected 8 fields, saw 24\\nSkipping line 14670: expected 8 fields, saw 11\\nSkipping line 22666: expected 8 fields, saw 9\\nSkipping line 31688: expected 8 fields, saw 9\\nSkipping line 32444: expected 8 fields, saw 11\\nSkipping line 32451: expected 8 fields, saw 12\\nSkipping line 32507: expected 8 fields, saw 13\\nSkipping line 32508: expected 8 fields, saw 13\\nSkipping line 34330: expected 8 fields, saw 10\\nSkipping line 34364: expected 8 fields, saw 9\\nSkipping line 40110: expected 8 fields, saw 23\\nSkipping line 42060: expected 8 fields, saw 9\\nSkipping line 43091: expected 8 fields, saw 34\\nSkipping line 57266: expected 8 fields, saw 14\\nSkipping line 62530: expected 8 fields, saw 11\\nSkipping line 64504: expected 8 fields, saw 9\\n'\n",
      "b'Skipping line 69553: expected 8 fields, saw 9\\nSkipping line 75688: expected 8 fields, saw 10\\nSkipping line 77264: expected 8 fields, saw 9\\nSkipping line 98164: expected 8 fields, saw 9\\nSkipping line 100140: expected 8 fields, saw 11\\nSkipping line 103030: expected 8 fields, saw 19\\nSkipping line 103069: expected 8 fields, saw 11\\nSkipping line 104615: expected 8 fields, saw 9\\nSkipping line 120944: expected 8 fields, saw 10\\nSkipping line 124872: expected 8 fields, saw 11\\nSkipping line 128436: expected 8 fields, saw 12\\nSkipping line 128955: expected 8 fields, saw 9\\nSkipping line 130171: expected 8 fields, saw 10\\n'\n",
      "b'Skipping line 139164: expected 8 fields, saw 10\\nSkipping line 140799: expected 8 fields, saw 13\\nSkipping line 146514: expected 8 fields, saw 9\\nSkipping line 152666: expected 8 fields, saw 12\\nSkipping line 155480: expected 8 fields, saw 12\\nSkipping line 161836: expected 8 fields, saw 13\\nSkipping line 161837: expected 8 fields, saw 14\\nSkipping line 161838: expected 8 fields, saw 9\\nSkipping line 164432: expected 8 fields, saw 10\\nSkipping line 170804: expected 8 fields, saw 21\\nSkipping line 188413: expected 8 fields, saw 9\\n'\n",
      "b'Skipping line 198428: expected 8 fields, saw 13\\nSkipping line 213469: expected 8 fields, saw 9\\nSkipping line 219550: expected 8 fields, saw 9\\nSkipping line 219582: expected 8 fields, saw 10\\nSkipping line 220264: expected 8 fields, saw 9\\nSkipping line 222582: expected 8 fields, saw 9\\nSkipping line 224058: expected 8 fields, saw 9\\nSkipping line 224108: expected 8 fields, saw 9\\nSkipping line 226458: expected 8 fields, saw 12\\nSkipping line 230707: expected 8 fields, saw 10\\nSkipping line 232369: expected 8 fields, saw 9\\nSkipping line 237560: expected 8 fields, saw 19\\nSkipping line 239745: expected 8 fields, saw 12\\nSkipping line 249166: expected 8 fields, saw 9\\nSkipping line 256582: expected 8 fields, saw 9\\nSkipping line 259916: expected 8 fields, saw 9\\n'\n",
      "b'Skipping line 263352: expected 8 fields, saw 13\\nSkipping line 273350: expected 8 fields, saw 9\\nSkipping line 273428: expected 8 fields, saw 9\\nSkipping line 290156: expected 8 fields, saw 10\\nSkipping line 294368: expected 8 fields, saw 10\\nSkipping line 295540: expected 8 fields, saw 9\\nSkipping line 299971: expected 8 fields, saw 9\\nSkipping line 301584: expected 8 fields, saw 10\\nSkipping line 301708: expected 8 fields, saw 11\\nSkipping line 302420: expected 8 fields, saw 9\\nSkipping line 313315: expected 8 fields, saw 10\\nSkipping line 316686: expected 8 fields, saw 11\\nSkipping line 317768: expected 8 fields, saw 10\\nSkipping line 324921: expected 8 fields, saw 10\\n'\n",
      "b'Skipping line 340916: expected 8 fields, saw 11\\nSkipping line 356711: expected 8 fields, saw 9\\nSkipping line 364235: expected 8 fields, saw 9\\nSkipping line 378386: expected 8 fields, saw 9\\nSkipping line 383075: expected 8 fields, saw 53\\nSkipping line 383078: expected 8 fields, saw 9\\nSkipping line 383720: expected 8 fields, saw 9\\nSkipping line 389516: expected 8 fields, saw 9\\n'\n",
      "b'Skipping line 406464: expected 8 fields, saw 9\\nSkipping line 407367: expected 8 fields, saw 12\\n'\n",
      "b'Skipping line 484444: expected 8 fields, saw 12\\nSkipping line 491335: expected 8 fields, saw 9\\nSkipping line 498669: expected 8 fields, saw 9\\n'\n",
      "b'Skipping line 527049: expected 8 fields, saw 16\\nSkipping line 544923: expected 8 fields, saw 11\\nSkipping line 553323: expected 8 fields, saw 29\\nSkipping line 553343: expected 8 fields, saw 29\\nSkipping line 564109: expected 8 fields, saw 9\\nSkipping line 569101: expected 8 fields, saw 10\\nSkipping line 582320: expected 8 fields, saw 23\\nSkipping line 589527: expected 8 fields, saw 9\\n'\n",
      "b'Skipping line 596882: expected 8 fields, saw 29\\nSkipping line 596884: expected 8 fields, saw 10\\nSkipping line 634862: expected 8 fields, saw 9\\nSkipping line 647228: expected 8 fields, saw 9\\nSkipping line 648082: expected 8 fields, saw 11\\nSkipping line 648083: expected 8 fields, saw 11\\nSkipping line 648084: expected 8 fields, saw 11\\nSkipping line 648085: expected 8 fields, saw 11\\nSkipping line 654715: expected 8 fields, saw 9\\n'\n",
      "b'Skipping line 688960: expected 8 fields, saw 9\\nSkipping line 688961: expected 8 fields, saw 9\\nSkipping line 690950: expected 8 fields, saw 9\\nSkipping line 700890: expected 8 fields, saw 9\\nSkipping line 713686: expected 8 fields, saw 9\\nSkipping line 716899: expected 8 fields, saw 18\\nSkipping line 719526: expected 8 fields, saw 10\\n'\n",
      "b'Skipping line 732136: expected 8 fields, saw 9\\nSkipping line 736188: expected 8 fields, saw 12\\nSkipping line 741732: expected 8 fields, saw 9\\nSkipping line 748566: expected 8 fields, saw 9\\nSkipping line 752230: expected 8 fields, saw 10\\nSkipping line 757421: expected 8 fields, saw 11\\nSkipping line 757430: expected 8 fields, saw 29\\n'\n",
      "b'Skipping line 789329: expected 8 fields, saw 31\\nSkipping line 796733: expected 8 fields, saw 9\\nSkipping line 823552: expected 8 fields, saw 9\\nSkipping line 832340: expected 8 fields, saw 9\\nSkipping line 835059: expected 8 fields, saw 9\\nSkipping line 836351: expected 8 fields, saw 9\\nSkipping line 838652: expected 8 fields, saw 9\\nSkipping line 850643: expected 8 fields, saw 10\\n'\n",
      "b'Skipping line 854845: expected 8 fields, saw 12\\nSkipping line 854922: expected 8 fields, saw 12\\nSkipping line 861383: expected 8 fields, saw 9\\nSkipping line 869817: expected 8 fields, saw 9\\nSkipping line 872169: expected 8 fields, saw 11\\nSkipping line 878734: expected 8 fields, saw 10\\nSkipping line 878744: expected 8 fields, saw 12\\nSkipping line 884129: expected 8 fields, saw 9\\nSkipping line 888340: expected 8 fields, saw 9\\nSkipping line 891544: expected 8 fields, saw 9\\n'\n",
      "b'Skipping line 968928: expected 8 fields, saw 18\\nSkipping line 969005: expected 8 fields, saw 39\\nSkipping line 969012: expected 8 fields, saw 21\\n'\n",
      "b'Skipping line 986138: expected 8 fields, saw 9\\nSkipping line 1001404: expected 8 fields, saw 9\\nSkipping line 1017660: expected 8 fields, saw 10\\nSkipping line 1025362: expected 8 fields, saw 13\\nSkipping line 1033091: expected 8 fields, saw 10\\nSkipping line 1039470: expected 8 fields, saw 9\\nSkipping line 1041551: expected 8 fields, saw 9\\nSkipping line 1041621: expected 8 fields, saw 10\\nSkipping line 1041647: expected 8 fields, saw 10\\n'\n",
      "b'Skipping line 1049812: expected 8 fields, saw 9\\nSkipping line 1104641: expected 8 fields, saw 12\\n'\n",
      "b'Skipping line 1116289: expected 8 fields, saw 13\\nSkipping line 1116293: expected 8 fields, saw 9\\nSkipping line 1126253: expected 8 fields, saw 12\\nSkipping line 1137523: expected 8 fields, saw 12\\nSkipping line 1153784: expected 8 fields, saw 9\\nSkipping line 1154866: expected 8 fields, saw 10\\nSkipping line 1154867: expected 8 fields, saw 11\\nSkipping line 1157888: expected 8 fields, saw 30\\nSkipping line 1172791: expected 8 fields, saw 27\\nSkipping line 1172792: expected 8 fields, saw 9\\nSkipping line 1173187: expected 8 fields, saw 9\\n'\n",
      "b'Skipping line 1202420: expected 8 fields, saw 9\\nSkipping line 1207747: expected 8 fields, saw 10\\nSkipping line 1229464: expected 8 fields, saw 9\\n'\n",
      "b'Skipping line 1249017: expected 8 fields, saw 9\\nSkipping line 1253190: expected 8 fields, saw 10\\nSkipping line 1260420: expected 8 fields, saw 11\\n'\n",
      "b'Skipping line 1350486: expected 8 fields, saw 10\\nSkipping line 1350491: expected 8 fields, saw 17\\nSkipping line 1359267: expected 8 fields, saw 9\\nSkipping line 1366584: expected 8 fields, saw 9\\nSkipping line 1367189: expected 8 fields, saw 9\\n'\n",
      "b'Skipping line 1394279: expected 8 fields, saw 12\\nSkipping line 1427042: expected 8 fields, saw 9\\nSkipping line 1437339: expected 8 fields, saw 11\\nSkipping line 1437896: expected 8 fields, saw 9\\n'\n"
     ]
    },
    {
     "name": "stderr",
     "output_type": "stream",
     "text": [
      "b'Skipping line 1447044: expected 8 fields, saw 30\\nSkipping line 1449921: expected 8 fields, saw 9\\nSkipping line 1452852: expected 8 fields, saw 9\\nSkipping line 1456360: expected 8 fields, saw 10\\nSkipping line 1470357: expected 8 fields, saw 9\\nSkipping line 1486157: expected 8 fields, saw 9\\nSkipping line 1492016: expected 8 fields, saw 9\\nSkipping line 1499913: expected 8 fields, saw 9\\n'\n",
      "b'Skipping line 1517925: expected 8 fields, saw 9\\nSkipping line 1559314: expected 8 fields, saw 9\\nSkipping line 1568491: expected 8 fields, saw 9\\nSkipping line 1569058: expected 8 fields, saw 11\\nSkipping line 1569749: expected 8 fields, saw 13\\n'\n",
      "b'Skipping line 1606444: expected 8 fields, saw 9\\nSkipping line 1620271: expected 8 fields, saw 9\\nSkipping line 1624144: expected 8 fields, saw 9\\nSkipping line 1626359: expected 8 fields, saw 9\\nSkipping line 1635375: expected 8 fields, saw 9\\nSkipping line 1636114: expected 8 fields, saw 9\\nSkipping line 1636138: expected 8 fields, saw 13\\n'\n",
      "b'Skipping line 1670730: expected 8 fields, saw 10\\nSkipping line 1699071: expected 8 fields, saw 21\\n'\n",
      "b'Skipping line 1768865: expected 8 fields, saw 9\\nSkipping line 1769251: expected 8 fields, saw 9\\nSkipping line 1769253: expected 8 fields, saw 9\\n'\n",
      "b'Skipping line 1782059: expected 8 fields, saw 11\\nSkipping line 1783896: expected 8 fields, saw 12\\nSkipping line 1786045: expected 8 fields, saw 9\\nSkipping line 1815443: expected 8 fields, saw 15\\nSkipping line 1820769: expected 8 fields, saw 9\\nSkipping line 1827898: expected 8 fields, saw 11\\n'\n",
      "b'Skipping line 1841157: expected 8 fields, saw 10\\nSkipping line 1858293: expected 8 fields, saw 13\\nSkipping line 1871333: expected 8 fields, saw 34\\nSkipping line 1882087: expected 8 fields, saw 10\\nSkipping line 1899544: expected 8 fields, saw 9\\n'\n",
      "b'Skipping line 1906984: expected 8 fields, saw 9\\nSkipping line 1909906: expected 8 fields, saw 9\\nSkipping line 1911203: expected 8 fields, saw 9\\nSkipping line 1917862: expected 8 fields, saw 9\\nSkipping line 1925820: expected 8 fields, saw 10\\nSkipping line 1933022: expected 8 fields, saw 81\\nSkipping line 1942602: expected 8 fields, saw 9\\nSkipping line 1942692: expected 8 fields, saw 12\\nSkipping line 1945121: expected 8 fields, saw 9\\nSkipping line 1962529: expected 8 fields, saw 9\\n'\n",
      "b'Skipping line 1990054: expected 8 fields, saw 9\\nSkipping line 1998588: expected 8 fields, saw 9\\nSkipping line 2001410: expected 8 fields, saw 10\\nSkipping line 2001795: expected 8 fields, saw 11\\nSkipping line 2005764: expected 8 fields, saw 18\\nSkipping line 2009491: expected 8 fields, saw 11\\nSkipping line 2015237: expected 8 fields, saw 9\\n'\n",
      "b'Skipping line 2032139: expected 8 fields, saw 18\\nSkipping line 2078393: expected 8 fields, saw 9\\nSkipping line 2078567: expected 8 fields, saw 13\\nSkipping line 2079259: expected 8 fields, saw 43\\nSkipping line 2085150: expected 8 fields, saw 9\\n'\n"
     ]
    }
   ],
   "source": [
    "data_dir = \"Data/transaction4.csv\"\n",
    "data = pd.read_csv(data_dir, error_bad_lines=False)"
   ]
  },
  {
   "cell_type": "code",
   "execution_count": 4,
   "metadata": {},
   "outputs": [
    {
     "data": {
      "text/html": [
       "<div>\n",
       "<style scoped>\n",
       "    .dataframe tbody tr th:only-of-type {\n",
       "        vertical-align: middle;\n",
       "    }\n",
       "\n",
       "    .dataframe tbody tr th {\n",
       "        vertical-align: top;\n",
       "    }\n",
       "\n",
       "    .dataframe thead th {\n",
       "        text-align: right;\n",
       "    }\n",
       "</style>\n",
       "<table border=\"1\" class=\"dataframe\">\n",
       "  <thead>\n",
       "    <tr style=\"text-align: right;\">\n",
       "      <th></th>\n",
       "      <th>payer</th>\n",
       "      <th>receiver</th>\n",
       "      <th>tran_text</th>\n",
       "      <th>year</th>\n",
       "      <th>month</th>\n",
       "      <th>day</th>\n",
       "      <th>privacy setting</th>\n",
       "      <th>Unnamed: 7</th>\n",
       "    </tr>\n",
       "  </thead>\n",
       "  <tbody>\n",
       "    <tr>\n",
       "      <th>0</th>\n",
       "      <td>abacbefabc833a96597289665268d99e58ee1b2e4550dd...</td>\n",
       "      <td>9c044a510cd7333bda6da6a2a364372974a0a8a573ac3f...</td>\n",
       "      <td>:Italy:</td>\n",
       "      <td>2019</td>\n",
       "      <td>1</td>\n",
       "      <td>21</td>\n",
       "      <td>unknown</td>\n",
       "      <td>NaN</td>\n",
       "    </tr>\n",
       "    <tr>\n",
       "      <th>1</th>\n",
       "      <td>f0bf2b3ec1598e6ab6ef15ea0251328ca3731e237bdb49...</td>\n",
       "      <td>abacbefabc833a96597289665268d99e58ee1b2e4550dd...</td>\n",
       "      <td>Heroics</td>\n",
       "      <td>2019</td>\n",
       "      <td>1</td>\n",
       "      <td>19</td>\n",
       "      <td>unknown</td>\n",
       "      <td>NaN</td>\n",
       "    </tr>\n",
       "    <tr>\n",
       "      <th>2</th>\n",
       "      <td>abacbefabc833a96597289665268d99e58ee1b2e4550dd...</td>\n",
       "      <td>523c406e16c2856eefb065c2ace781a81a608b6e826ca4...</td>\n",
       "      <td>To regain Kosovo</td>\n",
       "      <td>2019</td>\n",
       "      <td>1</td>\n",
       "      <td>18</td>\n",
       "      <td>unknown</td>\n",
       "      <td>NaN</td>\n",
       "    </tr>\n",
       "    <tr>\n",
       "      <th>3</th>\n",
       "      <td>f0bf2b3ec1598e6ab6ef15ea0251328ca3731e237bdb49...</td>\n",
       "      <td>abacbefabc833a96597289665268d99e58ee1b2e4550dd...</td>\n",
       "      <td>Reading at a club</td>\n",
       "      <td>2019</td>\n",
       "      <td>1</td>\n",
       "      <td>18</td>\n",
       "      <td>unknown</td>\n",
       "      <td>NaN</td>\n",
       "    </tr>\n",
       "    <tr>\n",
       "      <th>4</th>\n",
       "      <td>abacbefabc833a96597289665268d99e58ee1b2e4550dd...</td>\n",
       "      <td>f0bf2b3ec1598e6ab6ef15ea0251328ca3731e237bdb49...</td>\n",
       "      <td>For the Culture</td>\n",
       "      <td>2019</td>\n",
       "      <td>1</td>\n",
       "      <td>17</td>\n",
       "      <td>unknown</td>\n",
       "      <td>NaN</td>\n",
       "    </tr>\n",
       "  </tbody>\n",
       "</table>\n",
       "</div>"
      ],
      "text/plain": [
       "                                               payer  \\\n",
       "0  abacbefabc833a96597289665268d99e58ee1b2e4550dd...   \n",
       "1  f0bf2b3ec1598e6ab6ef15ea0251328ca3731e237bdb49...   \n",
       "2  abacbefabc833a96597289665268d99e58ee1b2e4550dd...   \n",
       "3  f0bf2b3ec1598e6ab6ef15ea0251328ca3731e237bdb49...   \n",
       "4  abacbefabc833a96597289665268d99e58ee1b2e4550dd...   \n",
       "\n",
       "                                            receiver          tran_text  year  \\\n",
       "0  9c044a510cd7333bda6da6a2a364372974a0a8a573ac3f...            :Italy:  2019   \n",
       "1  abacbefabc833a96597289665268d99e58ee1b2e4550dd...            Heroics  2019   \n",
       "2  523c406e16c2856eefb065c2ace781a81a608b6e826ca4...   To regain Kosovo  2019   \n",
       "3  abacbefabc833a96597289665268d99e58ee1b2e4550dd...  Reading at a club  2019   \n",
       "4  f0bf2b3ec1598e6ab6ef15ea0251328ca3731e237bdb49...    For the Culture  2019   \n",
       "\n",
       "   month  day privacy setting  Unnamed: 7  \n",
       "0      1   21         unknown         NaN  \n",
       "1      1   19         unknown         NaN  \n",
       "2      1   18         unknown         NaN  \n",
       "3      1   18         unknown         NaN  \n",
       "4      1   17         unknown         NaN  "
      ]
     },
     "execution_count": 4,
     "metadata": {},
     "output_type": "execute_result"
    }
   ],
   "source": [
    "data.head()"
   ]
  },
  {
   "cell_type": "code",
   "execution_count": 5,
   "metadata": {},
   "outputs": [
    {
     "data": {
      "text/plain": [
       "(2155581, 8)"
      ]
     },
     "execution_count": 5,
     "metadata": {},
     "output_type": "execute_result"
    }
   ],
   "source": [
    "data.shape"
   ]
  },
  {
   "cell_type": "code",
   "execution_count": 11,
   "metadata": {
    "collapsed": true
   },
   "outputs": [],
   "source": [
    "text = data['tran_text'].astype('str')[:500000]"
   ]
  },
  {
   "cell_type": "code",
   "execution_count": 14,
   "metadata": {
    "collapsed": true
   },
   "outputs": [],
   "source": [
    "all_text = \". \".join (text)"
   ]
  },
  {
   "cell_type": "code",
   "execution_count": 15,
   "metadata": {},
   "outputs": [
    {
     "data": {
      "text/plain": [
       "':Italy:. Heroics. To regain Kosovo. Reading at a club. For the Culture. Man with the plan. Movie. Irish delight. :wine_glass:. Biryani galore. Testing reasons. yehdodnw. GiVe Me FoDd. Carbohydrates. Hnxodnnxj. Boiled meats. Movie. walk a flock a ! thank u !. Snail Thai. E. No u. Tenga. Venom. :South_Korea:. Why isnt venmo used as social media?!?!. Anra Bday. Food!. Bday dinner. Food. Somber religious meditation.. Food - uber. For posterity\\'s sake.. Five guys. Bear necessities. Mhw. :cookie:. Fridge. Brita tank. Electric Bugaloo. Electric Bugaloo. Carrying my luggage\"\". Carrying my luggage\"\". Box. 2 smalls. Chon. Big boy buerg. Bbq. BBQ. Y33t. Bobert. Uber. Bobs. :movie_camera:. Avengers. Chong. Boba. :sushi:. :steaming_bowl:. Por que no?. Ching. :steaming_bowl:. Food!. Dinner yum. Family dinner. Food. Dinner. FAMILY DINNER. :face_with_steam_from_nose:. Pain. No u. Thai 55. :steaming_bowl:. Bobbing lol. Strings. Noods. :chicken::see-no-evil_monkey::hamburger::chicken::chicken::chicken::chicken::chicken::chicken::man_medium-dark_skin_tone::OK_hand_medium-dark_skin_tone::tired_face:. Food. Soyboy round two. Mcd. Harold’s (1/17). Black panther. Chocolate Soyboy ashes. Ur 20 nugs long time ago. Gey. Laundry. :broccoli:. Mcd. :sushi::sushi:. :airplane:️ airplane fluid. :shrimp::shrimp::shrimp:. Same. :exploding_head::exploding_head::exploding_head::exploding_head:. Ice ice babe. Pupu platter. Broken fast. :hushed_face:. (Long sleeve T Shirt and carboloading). Health food. Chinatown late night. Nectar and Ambrosia. Comida. To put the cost of living Life on my tab. Get yourself those Advantage chinos.. Good vibes. :pizza:. :OK_hand::OK_hand::OK_hand:. :sweat_droplets::chicken::rooster:. China. :chicken:. :Italy:. Sojujyjyjyjy. Uber/Plum. Shinju :face_vomiting:. 100 x 0.00001. Existence tax. Testing reasons. yehdodnw. chipotle. :chicken:. :cheese_wedge:. tree fiddy. :smiling_face_with_heart-eyes::smiling_face_with_heart-eyes::smiling_face_with_heart-eyes::smiling_face_with_heart-eyes::smiling_face_with_heart-eyes::smiling_face_with_heart-eyes::smiling_face_with_heart-eyes::smiling_face_with_heart-eyes::smiling_face_with_heart-eyes::smiling_face_with_heart-eyes::smiling_face_with_heart-eyes::smiling_face_with_heart-eyes::smiling_face_with_heart-eyes::smiling_face_with_heart-eyes::smiling_face_with_heart-eyes::smiling_face_with_heart-eyes::smiling_face_with_heart-eyes::smiling_face_with_heart-eyes::smiling_face_with_heart-eyes::smiling_face_with_heart-eyes::smiling_face_with_heart-eyes::smiling_face_with_heart-eyes::smiling_face_with_heart-eyes::smiling_face_with_heart-eyes::smiling_face_with_heart-eyes::smiling_face_with_heart-eyes::smiling_face_with_heart-eyes::smiling_face_with_heart-eyes::smiling_face_with_heart-eyes::smiling_face_with_heart-eyes::smiling_face_with_heart-eyes::smiling_face_with_heart-eyes::smiling_face_with_heart-eyes::smiling_face_with_heart-eyes::smiling_face_with_heart-eyes::smiling_face_with_heart-eyes::smiling_face_with_heart-eyes::smiling_face_with_heart-eyes::smiling_face_with_heart-eyes::smiling_face_with_heart-eyes::smiling_face_with_heart-eyes::smiling_face_with_heart-eyes::smiling_face_with_heart-eyes::smiling_face_with_heart-eyes::smiling_face_with_heart-eyes::smiling_face_with_heart-eyes::smiling_face_with_heart-eyes::smiling_face_with_heart-eyes::smiling_face_with_heart-eyes::smiling_face_with_heart-eyes::smiling_face_with_heart-eyes::smiling_face_with_heart-eyes::smiling_face_with_heart-eyes::smiling_face_with_heart-eyes::smiling_face_with_heart-eyes::smiling_face_with_heart-eyes::smiling_face_with_heart-eyes::smiling_face_with_heart-eyes::smiling_face_with_heart-eyes::smiling_face_with_heart-eyes:. \\U0001f9b7:OK_hand:. bun!. high CULTURE. buns. :eggplant::eggplant::eggplant::eggplant::eggplant: anal. :frowning_face_with_open_mouth:. pot w bubbles. :sleepy_face::sleepy_face::sleepy_face:. x:keycap_1::keycap_0::keycap_0:. quarters at a 10% interest rate. :man_shrugging:. :woman_shrugging_light_skin_tone:. :steaming_bowl:. Ur dumbass straws. :poultry_leg:. Con edison. Last bill for Verizon (August). :pizza: and :thinking_face::thinking_face::thinking_face: forgot. :South_Korea::cooked_rice:. Fizz. :shaved_ice:. Idek, I spent so much money ¯\\\\\\\\_(ツ)_/¯. :winking_face:. Con Edison. Way too much food. :fireworks:. late af. Verizon. :shaved_ice:. Towel. :chipmunk:. :taxi:. uber. Pilsen. :soft_ice_cream:. :french_fries:. Boba. Cocaine and Hookers. B E H A R. Draaank. poker. :money-mouth_face::money-mouth_face:. :chipmunk:. ha ro ld s. Johns. clever :rabbit:. Ur nasty mcdonald order long time ago. Oob. salsa chugging god. :shrimp::shrimp::shrimp:. :exploding_head::exploding_head::exploding_head::exploding_head:. Dim sum. Skating. :umbrella_with_rain_drops:. :upside-down_face::upside-down_face:. :fish::tropical_fish:?. :fish:. :french_fries:. :airplane:. ayyyyy. :pizza:. r e e e e e e e e e. :OK_hand::OK_hand::OK_hand:. Uber. ASU. :party_popper::party_popper:. :party_popper::party_popper:. :party_poppe'"
      ]
     },
     "execution_count": 15,
     "metadata": {},
     "output_type": "execute_result"
    }
   ],
   "source": [
    "all_text[:5000]"
   ]
  },
  {
   "cell_type": "markdown",
   "metadata": {},
   "source": [
    "# Training"
   ]
  },
  {
   "cell_type": "code",
   "execution_count": 16,
   "metadata": {
    "collapsed": true
   },
   "outputs": [],
   "source": [
    "def vectorizing_seq (text, maxlen, step):    \n",
    "    \"\"\"\n",
    "    :param maxlen: the length of a sequence to extract as train\n",
    "    :type  maxlen: int\n",
    "    :param step: sample a new sequence every n steps\n",
    "    :type  step: int\n",
    "    :returns: (Numpy boolean array of shape \n",
    "                    (Number of sequences, maxlen, number of distinct character),\n",
    "               Numpy boolean array of shape \n",
    "                    (Number of sequences, number of distinct character),\n",
    "               dictionary mapping a character to its integer placeholder)\n",
    "    :rtype:   (numpy.ndarray, \n",
    "               numpy.ndarray, \n",
    "               dict)     \n",
    "    \"\"\"\n",
    "    \n",
    "    sentences = [] # hold extracted sequences\n",
    "    next_chars = [] # hold next characters for each corresponding sentence\n",
    "\n",
    "    for i in range(0, len(text) - maxlen, step):\n",
    "        sentences.append(text[i: i + maxlen])\n",
    "        next_chars.append(text[i + maxlen])\n",
    "\n",
    "    print('Number of sequences:', len(sentences))\n",
    "\n",
    "    chars = sorted(list(set(text)))\n",
    "    print('Unique characters:', len(chars))\n",
    "    char_indices = dict((char, chars.index(char)) for char in chars)\n",
    "    print('Vectorization...')\n",
    "\n",
    "    # one hot encoding the characters into binary arrays\n",
    "    x = np.zeros((len(sentences), maxlen, len(chars)), dtype=np.bool)\n",
    "    y = np.zeros((len(sentences), len(chars)), dtype=np.bool)\n",
    "    for i, sentence in enumerate(sentences):\n",
    "        for t, char in enumerate(sentence):\n",
    "            x[i, t, char_indices[char]] = 1\n",
    "        y[i, char_indices[next_chars[i]]] = 1\n",
    "        \n",
    "    return x, y, char_indices"
   ]
  },
  {
   "cell_type": "code",
   "execution_count": 17,
   "metadata": {
    "collapsed": true
   },
   "outputs": [],
   "source": [
    "def create_model(x, y, maxlen, epochs, chars):\n",
    "    \"\"\"\n",
    "    Creates and trains a model.\n",
    "    :param x: Numpy boolean array of shape \n",
    "                    (Number of sequences, maxlen, number of distinct character)\n",
    "    :type  x: numpy.ndarray\n",
    "    :param y: Numpy boolean array of shape \n",
    "                    (Number of sequences, number of distinct character)\n",
    "    :type  y: numpy.ndarray\n",
    "    :param maxlen: the length of a sequence to extract as train\n",
    "    :type  maxlen: int\n",
    "    :param epochs: number of training iterations\n",
    "    :type  epochs: int\n",
    "    :param chars: list of unique characters\n",
    "    :type  chars: list\n",
    "    :returns: trained keras model\n",
    "    :rtype:   keras.engine.sequential.Sequential\n",
    "    \"\"\"\n",
    "\n",
    "    model = Sequential()\n",
    "    model.add(layers.GRU(\n",
    "        32,\n",
    "        return_sequences=True,\n",
    "        input_shape=(maxlen, len(chars)))\n",
    "    )\n",
    "    model.add(layers.GRU(\n",
    "        64,\n",
    "        input_shape=(maxlen, len(chars)))\n",
    "    )\n",
    "    model.add(layers.Dense(\n",
    "        len(chars), \n",
    "        activation='softmax')\n",
    "    )\n",
    "\n",
    "    print(model.summary())\n",
    "\n",
    "    optimizer = optimizers.RMSprop(lr=0.01)\n",
    "    model.compile(loss='categorical_crossentropy', optimizer=optimizer)\n",
    "    model.fit(x, y, batch_size=128, epochs=epochs)\n",
    "\n",
    "    return (model)"
   ]
  },
  {
   "cell_type": "code",
   "execution_count": 18,
   "metadata": {
    "collapsed": true
   },
   "outputs": [],
   "source": [
    "def train_model_from_text(text, maxlen=60, step=20, epochs=10):\n",
    "    \"\"\"\n",
    "    Given text, train the model.\n",
    "    \n",
    "    :param text: A string with all the text together.\n",
    "    :type  text: str\n",
    "    :param maxlen: the length of a sequence to extract as train\n",
    "    :type  maxlen: int\n",
    "    :param step: sample a new sequence every n steps\n",
    "    :type  step: int\n",
    "    :param epochs: number of training iterations\n",
    "    :type  epochs: int\n",
    "    :returns: (trained keras model,\n",
    "               dictionary mapping characters to digit representations)\n",
    "    :rtype:   (keras.engine.sequential.Sequential,\n",
    "               dict)\n",
    "    \"\"\"\n",
    "    \n",
    "    x, y, char_indices = vectorizing_seq(text, maxlen, step)\n",
    "    chars = list (char_indices.keys())\n",
    "    model = create_model(x, y, maxlen, epochs, chars)\n",
    "    \n",
    "    return model, char_indices"
   ]
  },
  {
   "cell_type": "code",
   "execution_count": 19,
   "metadata": {
    "collapsed": true
   },
   "outputs": [],
   "source": [
    "def sample(preds, temperature=1.0):\n",
    "    \"\"\"\n",
    "    Compute new probability distribution based on the temperature\n",
    "    Higher temperature creates more randomness.\n",
    "    \n",
    "    :param preds: numpy array of shape (unique chars,), and elements sum to 1\n",
    "    :type  preds: numpy.ndarray\n",
    "    :param temperature: characterizes the entropy of probability distribution\n",
    "    :type  temperature: float\n",
    "    :returns: a number 0 to the length of preds - 1\n",
    "    :rtype:   int\n",
    "    \"\"\"\n",
    "    \n",
    "    preds = np.asarray(preds).astype('float64')\n",
    "    preds = np.log(preds) / temperature\n",
    "    exp_preds = np.exp(preds)\n",
    "    preds = exp_preds / np.sum(exp_preds)\n",
    "    probas = np.random.multinomial(1, preds, 1)\n",
    "    return np.argmax(probas)"
   ]
  },
  {
   "cell_type": "code",
   "execution_count": 20,
   "metadata": {
    "collapsed": true
   },
   "outputs": [],
   "source": [
    "def text_generate(model, text, char_indices, maxlen=60, temperature=1.0, textlen=400):\n",
    "    \"\"\"\n",
    "    Generate text based on a model.\n",
    "    \n",
    "    :param model: trained keras model\n",
    "    :type  model: keras.engine.sequential.Sequential\n",
    "    :param text: lyrics\n",
    "    :type  text: str\n",
    "    :param char_indices: dictionary mapping a character to its integer placeholder\n",
    "    :type  char_indices: dict\n",
    "    :param maxlen: maximum length of the sequences\n",
    "    :type  maxlen: int\n",
    "    :param textlen: Number of characters of generated sequence\n",
    "    :type  textlen: int\n",
    "    \"\"\"\n",
    "\n",
    "    start_index = random.randint(0, len(text) - maxlen - 1) \n",
    "    generated_text = text[start_index: start_index + maxlen] \n",
    "    print('--- Generating with seed: \"' + generated_text + '\"')\n",
    "    \n",
    "    chars = list (char_indices.keys())\n",
    "    \n",
    "    print('------ temperature:', temperature)\n",
    "    sys.stdout.write(generated_text)\n",
    "    for i in range(textlen):\n",
    "        sampled = np.zeros((1, maxlen, len(chars)))\n",
    "        for t, char in enumerate(generated_text):\n",
    "            sampled[0, t, char_indices[char]] = 1\n",
    "        preds = model.predict(sampled, verbose=0)[0]\n",
    "        next_index = sample(preds, temperature)\n",
    "        next_char = chars[next_index]\n",
    "        generated_text += next_char\n",
    "        generated_text = generated_text[1:]\n",
    "        sys.stdout.write(next_char)"
   ]
  },
  {
   "cell_type": "markdown",
   "metadata": {},
   "source": [
    "## Sample Training and Text Generation"
   ]
  },
  {
   "cell_type": "code",
   "execution_count": 21,
   "metadata": {
    "collapsed": true
   },
   "outputs": [],
   "source": [
    "# small amount for now so I can test if the code works\n",
    "# train on entire dataset\n",
    "sample_text = all_text[:5000]"
   ]
  },
  {
   "cell_type": "code",
   "execution_count": 22,
   "metadata": {},
   "outputs": [
    {
     "name": "stdout",
     "output_type": "stream",
     "text": [
      "Number of sequences: 247\n",
      "Unique characters: 76\n",
      "Vectorization...\n",
      "_________________________________________________________________\n",
      "Layer (type)                 Output Shape              Param #   \n",
      "=================================================================\n",
      "gru_1 (GRU)                  (None, 60, 32)            10464     \n",
      "_________________________________________________________________\n",
      "gru_2 (GRU)                  (None, 64)                18624     \n",
      "_________________________________________________________________\n",
      "dense_1 (Dense)              (None, 76)                4940      \n",
      "=================================================================\n",
      "Total params: 34,028\n",
      "Trainable params: 34,028\n",
      "Non-trainable params: 0\n",
      "_________________________________________________________________\n",
      "None\n",
      "Epoch 1/15\n",
      "247/247 [==============================] - 1s 5ms/step - loss: 4.1381\n",
      "Epoch 2/15\n",
      "247/247 [==============================] - 0s 850us/step - loss: 3.3469\n",
      "Epoch 3/15\n",
      "247/247 [==============================] - 0s 824us/step - loss: 3.2166\n",
      "Epoch 4/15\n",
      "247/247 [==============================] - 0s 787us/step - loss: 2.6050\n",
      "Epoch 5/15\n",
      "247/247 [==============================] - 0s 965us/step - loss: 2.1962\n",
      "Epoch 6/15\n",
      "247/247 [==============================] - 0s 815us/step - loss: 2.0334\n",
      "Epoch 7/15\n",
      "247/247 [==============================] - 0s 951us/step - loss: 1.9204\n",
      "Epoch 8/15\n",
      "247/247 [==============================] - 0s 931us/step - loss: 1.8967\n",
      "Epoch 9/15\n",
      "247/247 [==============================] - 0s 876us/step - loss: 1.7986\n",
      "Epoch 10/15\n",
      "247/247 [==============================] - 0s 777us/step - loss: 1.7947\n",
      "Epoch 11/15\n",
      "247/247 [==============================] - 0s 846us/step - loss: 1.6898\n",
      "Epoch 12/15\n",
      "247/247 [==============================] - 0s 986us/step - loss: 1.7570\n",
      "Epoch 13/15\n",
      "247/247 [==============================] - 0s 849us/step - loss: 1.6529\n",
      "Epoch 14/15\n",
      "247/247 [==============================] - 0s 886us/step - loss: 1.5316\n",
      "Epoch 15/15\n",
      "247/247 [==============================] - 0s 800us/step - loss: 1.4554\n"
     ]
    }
   ],
   "source": [
    "maxlen = 60\n",
    "\n",
    "model, char_indices = train_model_from_text(\n",
    "    sample_text,\n",
    "    maxlen=maxlen,\n",
    "    step=20,\n",
    "    epochs=15\n",
    ")"
   ]
  },
  {
   "cell_type": "code",
   "execution_count": 24,
   "metadata": {},
   "outputs": [
    {
     "name": "stdout",
     "output_type": "stream",
     "text": [
      "--- Generating with seed: \"smiling_face_with_heart-eyes::smiling_face_with_heart-eyes::\"\n",
      "------ temperature: 0.6\n",
      "smiling_face_with_heart-eyes::smiling_face_with_heart-eyes::::iiiaaaaa:l:::oiyatoeps::::iiaaaaeae:::::iiaaaaaee:::::iiaaaaee::::oiiaaa¯eae:::::coaaaaoe::::.oa_aeer::::.oiaa.aed:::::ioaaaee::::oioaaaae.e:::::ilaaaaee:::::i aaaaaee:::: iiaaaaee:::::oopaaad.le::::ciaaaaaee:::::oyaaaae::::iioaaaeap:::::oiaaaaee:::::7iaaaane:::yiiaaaaer:::::ii_aaaea::::oiaaaae:::::gaaaae:::::c_aaaraee:::::iiaaaaaer:::::A yi ongoa_edr::::::iaaaaae::.sicaeey::::iiiaaaaepdr::::oia_aee:::::iyaaaad:.olee:::::ioaaaaaee:::::ioaaaae::::piaaaer::::.iaaaaer::.:.oiaaprerr:::::ciaaadaaer.:::cotaaee::::  yaaaaape.e:::::yaaaaare.::::cioaaaer::::.oaapaer:::::oiaaaa.ee:::::ioaaaepe::::: oa"
     ]
    }
   ],
   "source": [
    "text_generate(\n",
    "    model, \n",
    "    sample_text, \n",
    "    char_indices, \n",
    "    maxlen=maxlen,\n",
    "    temperature=.6,\n",
    "    textlen=600\n",
    ")"
   ]
  },
  {
   "cell_type": "code",
   "execution_count": null,
   "metadata": {
    "collapsed": true
   },
   "outputs": [],
   "source": []
  }
 ],
 "metadata": {
  "kernelspec": {
   "display_name": "Python 3",
   "language": "python",
   "name": "python3"
  },
  "language_info": {
   "codemirror_mode": {
    "name": "ipython",
    "version": 3
   },
   "file_extension": ".py",
   "mimetype": "text/x-python",
   "name": "python",
   "nbconvert_exporter": "python",
   "pygments_lexer": "ipython3",
   "version": "3.6.3"
  },
  "toc": {
   "base_numbering": 1,
   "nav_menu": {},
   "number_sections": true,
   "sideBar": true,
   "skip_h1_title": false,
   "title_cell": "Table of Contents",
   "title_sidebar": "Contents",
   "toc_cell": false,
   "toc_position": {},
   "toc_section_display": true,
   "toc_window_display": false
  }
 },
 "nbformat": 4,
 "nbformat_minor": 2
}
