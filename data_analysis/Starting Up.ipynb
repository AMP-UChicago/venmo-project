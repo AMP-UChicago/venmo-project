{
 "cells": [
  {
   "cell_type": "code",
   "execution_count": 1,
   "metadata": {
    "collapsed": true
   },
   "outputs": [],
   "source": [
    "# this is the library that we are using for showing\n",
    "# and manipulating data\n",
    "import pandas as pd"
   ]
  },
  {
   "cell_type": "code",
   "execution_count": 22,
   "metadata": {
    "collapsed": true
   },
   "outputs": [],
   "source": [
    "# opens the csv into python and assigns it to the variable \"data\"\n",
    "# note that in this case, transactions.csv is in the folder \"Data\"\n",
    "data = pd.read_csv('Data/transactions.csv')"
   ]
  },
  {
   "cell_type": "code",
   "execution_count": 23,
   "metadata": {},
   "outputs": [
    {
     "data": {
      "text/html": [
       "<div>\n",
       "<style scoped>\n",
       "    .dataframe tbody tr th:only-of-type {\n",
       "        vertical-align: middle;\n",
       "    }\n",
       "\n",
       "    .dataframe tbody tr th {\n",
       "        vertical-align: top;\n",
       "    }\n",
       "\n",
       "    .dataframe thead th {\n",
       "        text-align: right;\n",
       "    }\n",
       "</style>\n",
       "<table border=\"1\" class=\"dataframe\">\n",
       "  <thead>\n",
       "    <tr style=\"text-align: right;\">\n",
       "      <th></th>\n",
       "      <th>Unnamed: 0</th>\n",
       "      <th>payer</th>\n",
       "      <th>receiver</th>\n",
       "      <th>tran_text</th>\n",
       "      <th>Unnamed: 7</th>\n",
       "      <th>Date</th>\n",
       "      <th>dow</th>\n",
       "    </tr>\n",
       "  </thead>\n",
       "  <tbody>\n",
       "    <tr>\n",
       "      <th>0</th>\n",
       "      <td>0</td>\n",
       "      <td>abacbefabc833a96597289665268d99e58ee1b2e4550dd...</td>\n",
       "      <td>9c044a510cd7333bda6da6a2a364372974a0a8a573ac3f...</td>\n",
       "      <td>:Italy:</td>\n",
       "      <td>NaN</td>\n",
       "      <td>2019-01-21</td>\n",
       "      <td>Monday</td>\n",
       "    </tr>\n",
       "    <tr>\n",
       "      <th>1</th>\n",
       "      <td>1</td>\n",
       "      <td>f0bf2b3ec1598e6ab6ef15ea0251328ca3731e237bdb49...</td>\n",
       "      <td>abacbefabc833a96597289665268d99e58ee1b2e4550dd...</td>\n",
       "      <td>Heroics</td>\n",
       "      <td>NaN</td>\n",
       "      <td>2019-01-19</td>\n",
       "      <td>Saturday</td>\n",
       "    </tr>\n",
       "    <tr>\n",
       "      <th>2</th>\n",
       "      <td>2</td>\n",
       "      <td>abacbefabc833a96597289665268d99e58ee1b2e4550dd...</td>\n",
       "      <td>523c406e16c2856eefb065c2ace781a81a608b6e826ca4...</td>\n",
       "      <td>To regain Kosovo</td>\n",
       "      <td>NaN</td>\n",
       "      <td>2019-01-18</td>\n",
       "      <td>Friday</td>\n",
       "    </tr>\n",
       "    <tr>\n",
       "      <th>3</th>\n",
       "      <td>3</td>\n",
       "      <td>f0bf2b3ec1598e6ab6ef15ea0251328ca3731e237bdb49...</td>\n",
       "      <td>abacbefabc833a96597289665268d99e58ee1b2e4550dd...</td>\n",
       "      <td>Reading at a club</td>\n",
       "      <td>NaN</td>\n",
       "      <td>2019-01-18</td>\n",
       "      <td>Friday</td>\n",
       "    </tr>\n",
       "    <tr>\n",
       "      <th>4</th>\n",
       "      <td>4</td>\n",
       "      <td>abacbefabc833a96597289665268d99e58ee1b2e4550dd...</td>\n",
       "      <td>f0bf2b3ec1598e6ab6ef15ea0251328ca3731e237bdb49...</td>\n",
       "      <td>For the Culture</td>\n",
       "      <td>NaN</td>\n",
       "      <td>2019-01-17</td>\n",
       "      <td>Thursday</td>\n",
       "    </tr>\n",
       "    <tr>\n",
       "      <th>5</th>\n",
       "      <td>5</td>\n",
       "      <td>abacbefabc833a96597289665268d99e58ee1b2e4550dd...</td>\n",
       "      <td>9c044a510cd7333bda6da6a2a364372974a0a8a573ac3f...</td>\n",
       "      <td>Man with the plan</td>\n",
       "      <td>NaN</td>\n",
       "      <td>2019-01-15</td>\n",
       "      <td>Tuesday</td>\n",
       "    </tr>\n",
       "  </tbody>\n",
       "</table>\n",
       "</div>"
      ],
      "text/plain": [
       "   Unnamed: 0                                              payer  \\\n",
       "0           0  abacbefabc833a96597289665268d99e58ee1b2e4550dd...   \n",
       "1           1  f0bf2b3ec1598e6ab6ef15ea0251328ca3731e237bdb49...   \n",
       "2           2  abacbefabc833a96597289665268d99e58ee1b2e4550dd...   \n",
       "3           3  f0bf2b3ec1598e6ab6ef15ea0251328ca3731e237bdb49...   \n",
       "4           4  abacbefabc833a96597289665268d99e58ee1b2e4550dd...   \n",
       "5           5  abacbefabc833a96597289665268d99e58ee1b2e4550dd...   \n",
       "\n",
       "                                            receiver          tran_text  \\\n",
       "0  9c044a510cd7333bda6da6a2a364372974a0a8a573ac3f...            :Italy:   \n",
       "1  abacbefabc833a96597289665268d99e58ee1b2e4550dd...            Heroics   \n",
       "2  523c406e16c2856eefb065c2ace781a81a608b6e826ca4...   To regain Kosovo   \n",
       "3  abacbefabc833a96597289665268d99e58ee1b2e4550dd...  Reading at a club   \n",
       "4  f0bf2b3ec1598e6ab6ef15ea0251328ca3731e237bdb49...    For the Culture   \n",
       "5  9c044a510cd7333bda6da6a2a364372974a0a8a573ac3f...  Man with the plan   \n",
       "\n",
       "   Unnamed: 7        Date       dow  \n",
       "0         NaN  2019-01-21    Monday  \n",
       "1         NaN  2019-01-19  Saturday  \n",
       "2         NaN  2019-01-18    Friday  \n",
       "3         NaN  2019-01-18    Friday  \n",
       "4         NaN  2019-01-17  Thursday  \n",
       "5         NaN  2019-01-15   Tuesday  "
      ]
     },
     "execution_count": 23,
     "metadata": {},
     "output_type": "execute_result"
    }
   ],
   "source": [
    "# takes a peak at the top few columns\n",
    "# the integer indicates how many rows you want to display\n",
    "# note that the first row's index is 0\n",
    "data.head(6)"
   ]
  },
  {
   "cell_type": "code",
   "execution_count": 24,
   "metadata": {},
   "outputs": [
    {
     "name": "stdout",
     "output_type": "stream",
     "text": [
      "<class 'pandas.core.frame.DataFrame'>\n",
      "RangeIndex: 2147258 entries, 0 to 2147257\n",
      "Data columns (total 7 columns):\n",
      "Unnamed: 0    int64\n",
      "payer         object\n",
      "receiver      object\n",
      "tran_text     object\n",
      "Unnamed: 7    float64\n",
      "Date          object\n",
      "dow           object\n",
      "dtypes: float64(1), int64(1), object(5)\n",
      "memory usage: 114.7+ MB\n"
     ]
    }
   ],
   "source": [
    "# shows the information of the csv file\n",
    "# 2147258 entries: indicates the number of rows\n",
    "# the most important to keep in mind is the \n",
    "# memory usage, which is very large\n",
    "data.info()"
   ]
  },
  {
   "cell_type": "code",
   "execution_count": 11,
   "metadata": {},
   "outputs": [],
   "source": [
    "# note that there are two columns: 'Unnamed: 0' and 'Unnamed: 7'\n",
    "# that do not say anything important\n",
    "\n",
    "# so we want to drop the columns\n",
    "# data.drop takes in a list of columns and the axis\n",
    "\n",
    "# axis of 1 means the columns\n",
    "# axis of 1 refers to the rows\n",
    "data = data.drop(['Unnamed: 0', 'Unnamed: 7'], axis=1)"
   ]
  },
  {
   "cell_type": "code",
   "execution_count": 12,
   "metadata": {},
   "outputs": [],
   "source": [
    "# next we want to convert the column \"Date\" to a datetime\n",
    "# we mainly want to do this for efficiency reasons\n",
    "data['Date'] = pd.to_datetime(data['Date'])"
   ]
  },
  {
   "cell_type": "code",
   "execution_count": 18,
   "metadata": {
    "scrolled": true
   },
   "outputs": [
    {
     "data": {
      "text/plain": [
       "0                                          :Italy:\n",
       "1                                          Heroics\n",
       "2                                 To regain Kosovo\n",
       "3                                Reading at a club\n",
       "4                                  For the Culture\n",
       "5                                Man with the plan\n",
       "6                                            Movie\n",
       "7                                    Irish delight\n",
       "8                                     :wine_glass:\n",
       "9                                   Biryani galore\n",
       "10                                 Testing reasons\n",
       "11                                        yehdodnw\n",
       "12                                    GiVe Me FoDd\n",
       "13                                   Carbohydrates\n",
       "14                                       Hnxodnnxj\n",
       "15                                    Boiled meats\n",
       "16                                           Movie\n",
       "17                      walk a flock a ! thank u !\n",
       "18                                      Snail Thai\n",
       "19                                               E\n",
       "20                                            No u\n",
       "21                                           Tenga\n",
       "22                                           Venom\n",
       "23                                   :South_Korea:\n",
       "24         Why isnt venmo used as social media?!?!\n",
       "25                                       Anra Bday\n",
       "26                                           Food!\n",
       "27                                     Bday dinner\n",
       "28                                            Food\n",
       "29                    Somber religious meditation.\n",
       "                            ...                   \n",
       "2147228                                    Shaptak\n",
       "2147229                                  All of it\n",
       "2147230                                     :taxi:\n",
       "2147231                                 Toki mochi\n",
       "2147232                                         Za\n",
       "2147233                                  Bus + tax\n",
       "2147234                                     Ozuuuu\n",
       "2147235                            Firehouse sammy\n",
       "2147236                     Sonshcuduajamsocinvdms\n",
       "2147237                                    Blartal\n",
       "2147238                                   :cookie:\n",
       "2147239                              Hey hey ho ho\n",
       "2147240                                        Zah\n",
       "2147241                                     Hostel\n",
       "2147242                                   Plastics\n",
       "2147243                                   Kat kora\n",
       "2147244                        It doesn't matter\"\"\n",
       "2147245                                   sandwich\n",
       "2147246                                   :monkey:\n",
       "2147247                                        Car\n",
       "2147248                        :last_quarter_moon:\n",
       "2147249                                  anguished\n",
       "2147250                                     :boar:\n",
       "2147251                                         Za\n",
       "2147252                   Worst drink ive ever had\n",
       "2147253                              The love boat\n",
       "2147254                       :person_rowing_boat:\n",
       "2147255                          Really bad omelet\n",
       "2147256                                   King Dom\n",
       "2147257                                 Ty TD bank\n",
       "Name: tran_text, Length: 2147258, dtype: object"
      ]
     },
     "execution_count": 18,
     "metadata": {},
     "output_type": "execute_result"
    }
   ],
   "source": [
    "# next we want to be able to see the text of the csv file\n",
    "# so we index data by its column \"tran_text\"\n",
    "data['tran_text']"
   ]
  },
  {
   "cell_type": "code",
   "execution_count": 27,
   "metadata": {},
   "outputs": [
    {
     "data": {
      "text/plain": [
       "'walk a flock a ! thank u !'"
      ]
     },
     "execution_count": 27,
     "metadata": {},
     "output_type": "execute_result"
    }
   ],
   "source": [
    "# to get a specific row of text, we can index it by a number\n",
    "# the number corresponds to the row\n",
    "data['tran_text'][17]"
   ]
  },
  {
   "cell_type": "code",
   "execution_count": 28,
   "metadata": {},
   "outputs": [
    {
     "name": "stdout",
     "output_type": "stream",
     "text": [
      "\n"
     ]
    }
   ],
   "source": [
    "\"\"\"\n",
    "Some things to note:\n",
    "\n",
    "A word that starts with : and ends with : is an emoji.\n",
    "For example:\n",
    "    :wine_glass:\n",
    "    \n",
    "Is an emoji for a wine glass.\n",
    "\"\"\"\n",
    "\n",
    "\"\"\"\n",
    "Our next goals are to:\n",
    "\n",
    "Find ways in which we can use the data available.\n",
    "What insights can we extract?\n",
    "\n",
    "Think of way to categorize the text.\n",
    "Some starting categories are:\n",
    "    school\n",
    "    rides\n",
    "    drugs\n",
    "\n",
    "\"\"\"\n",
    "print(\"\")"
   ]
  },
  {
   "cell_type": "code",
   "execution_count": null,
   "metadata": {
    "collapsed": true
   },
   "outputs": [],
   "source": [
    "\n"
   ]
  }
 ],
 "metadata": {
  "kernelspec": {
   "display_name": "Python 3",
   "language": "python",
   "name": "python3"
  },
  "language_info": {
   "codemirror_mode": {
    "name": "ipython",
    "version": 3
   },
   "file_extension": ".py",
   "mimetype": "text/x-python",
   "name": "python",
   "nbconvert_exporter": "python",
   "pygments_lexer": "ipython3",
   "version": "3.6.3"
  },
  "toc": {
   "base_numbering": 1,
   "nav_menu": {},
   "number_sections": true,
   "sideBar": true,
   "skip_h1_title": false,
   "title_cell": "Table of Contents",
   "title_sidebar": "Contents",
   "toc_cell": false,
   "toc_position": {},
   "toc_section_display": true,
   "toc_window_display": false
  }
 },
 "nbformat": 4,
 "nbformat_minor": 2
}
