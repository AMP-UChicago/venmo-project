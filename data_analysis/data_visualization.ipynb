{
 "cells": [
  {
   "cell_type": "code",
   "execution_count": 1,
   "metadata": {
    "collapsed": true
   },
   "outputs": [],
   "source": [
    "import pandas as pd"
   ]
  },
  {
   "cell_type": "code",
   "execution_count": 2,
   "metadata": {},
   "outputs": [
    {
     "name": "stderr",
     "output_type": "stream",
     "text": [
      "b'Skipping line 4403: expected 8 fields, saw 11\\nSkipping line 14589: expected 8 fields, saw 10\\nSkipping line 14605: expected 8 fields, saw 9\\nSkipping line 14644: expected 8 fields, saw 24\\nSkipping line 14670: expected 8 fields, saw 11\\nSkipping line 22666: expected 8 fields, saw 9\\nSkipping line 31688: expected 8 fields, saw 9\\nSkipping line 32444: expected 8 fields, saw 11\\nSkipping line 32451: expected 8 fields, saw 12\\nSkipping line 32507: expected 8 fields, saw 13\\nSkipping line 32508: expected 8 fields, saw 13\\nSkipping line 34330: expected 8 fields, saw 10\\nSkipping line 34364: expected 8 fields, saw 9\\nSkipping line 40110: expected 8 fields, saw 23\\nSkipping line 42060: expected 8 fields, saw 9\\nSkipping line 43091: expected 8 fields, saw 34\\nSkipping line 57266: expected 8 fields, saw 14\\nSkipping line 62530: expected 8 fields, saw 11\\nSkipping line 64504: expected 8 fields, saw 9\\n'\n",
      "b'Skipping line 69553: expected 8 fields, saw 9\\nSkipping line 75688: expected 8 fields, saw 10\\nSkipping line 77264: expected 8 fields, saw 9\\nSkipping line 98164: expected 8 fields, saw 9\\nSkipping line 100140: expected 8 fields, saw 11\\nSkipping line 103030: expected 8 fields, saw 19\\nSkipping line 103069: expected 8 fields, saw 11\\nSkipping line 104615: expected 8 fields, saw 9\\nSkipping line 120944: expected 8 fields, saw 10\\nSkipping line 124872: expected 8 fields, saw 11\\nSkipping line 128436: expected 8 fields, saw 12\\nSkipping line 128955: expected 8 fields, saw 9\\nSkipping line 130171: expected 8 fields, saw 10\\n'\n",
      "b'Skipping line 139164: expected 8 fields, saw 10\\nSkipping line 140799: expected 8 fields, saw 13\\nSkipping line 146514: expected 8 fields, saw 9\\nSkipping line 152666: expected 8 fields, saw 12\\nSkipping line 155480: expected 8 fields, saw 12\\nSkipping line 161836: expected 8 fields, saw 13\\nSkipping line 161837: expected 8 fields, saw 14\\nSkipping line 161838: expected 8 fields, saw 9\\nSkipping line 164432: expected 8 fields, saw 10\\nSkipping line 170804: expected 8 fields, saw 21\\nSkipping line 188413: expected 8 fields, saw 9\\n'\n",
      "b'Skipping line 198428: expected 8 fields, saw 13\\nSkipping line 213469: expected 8 fields, saw 9\\nSkipping line 219550: expected 8 fields, saw 9\\nSkipping line 219582: expected 8 fields, saw 10\\nSkipping line 220264: expected 8 fields, saw 9\\nSkipping line 222582: expected 8 fields, saw 9\\nSkipping line 224058: expected 8 fields, saw 9\\nSkipping line 224108: expected 8 fields, saw 9\\nSkipping line 226458: expected 8 fields, saw 12\\nSkipping line 230707: expected 8 fields, saw 10\\nSkipping line 232369: expected 8 fields, saw 9\\nSkipping line 237560: expected 8 fields, saw 19\\nSkipping line 239745: expected 8 fields, saw 12\\nSkipping line 249166: expected 8 fields, saw 9\\nSkipping line 256582: expected 8 fields, saw 9\\nSkipping line 259916: expected 8 fields, saw 9\\n'\n",
      "b'Skipping line 263352: expected 8 fields, saw 13\\nSkipping line 273350: expected 8 fields, saw 9\\nSkipping line 273428: expected 8 fields, saw 9\\nSkipping line 290156: expected 8 fields, saw 10\\nSkipping line 294368: expected 8 fields, saw 10\\nSkipping line 295540: expected 8 fields, saw 9\\nSkipping line 299971: expected 8 fields, saw 9\\nSkipping line 301584: expected 8 fields, saw 10\\nSkipping line 301708: expected 8 fields, saw 11\\nSkipping line 302420: expected 8 fields, saw 9\\nSkipping line 313315: expected 8 fields, saw 10\\nSkipping line 316686: expected 8 fields, saw 11\\nSkipping line 317768: expected 8 fields, saw 10\\nSkipping line 324921: expected 8 fields, saw 10\\n'\n",
      "b'Skipping line 340916: expected 8 fields, saw 11\\nSkipping line 356711: expected 8 fields, saw 9\\nSkipping line 364235: expected 8 fields, saw 9\\nSkipping line 378386: expected 8 fields, saw 9\\nSkipping line 383075: expected 8 fields, saw 53\\nSkipping line 383078: expected 8 fields, saw 9\\nSkipping line 383720: expected 8 fields, saw 9\\nSkipping line 389516: expected 8 fields, saw 9\\n'\n",
      "b'Skipping line 406464: expected 8 fields, saw 9\\nSkipping line 407367: expected 8 fields, saw 12\\n'\n",
      "b'Skipping line 484444: expected 8 fields, saw 12\\nSkipping line 491335: expected 8 fields, saw 9\\nSkipping line 498669: expected 8 fields, saw 9\\n'\n",
      "b'Skipping line 527049: expected 8 fields, saw 16\\nSkipping line 544923: expected 8 fields, saw 11\\nSkipping line 553323: expected 8 fields, saw 29\\nSkipping line 553343: expected 8 fields, saw 29\\nSkipping line 564109: expected 8 fields, saw 9\\nSkipping line 569101: expected 8 fields, saw 10\\nSkipping line 582320: expected 8 fields, saw 23\\nSkipping line 589527: expected 8 fields, saw 9\\n'\n",
      "b'Skipping line 596882: expected 8 fields, saw 29\\nSkipping line 596884: expected 8 fields, saw 10\\nSkipping line 634862: expected 8 fields, saw 9\\nSkipping line 647228: expected 8 fields, saw 9\\nSkipping line 648082: expected 8 fields, saw 11\\nSkipping line 648083: expected 8 fields, saw 11\\nSkipping line 648084: expected 8 fields, saw 11\\nSkipping line 648085: expected 8 fields, saw 11\\nSkipping line 654715: expected 8 fields, saw 9\\n'\n",
      "b'Skipping line 688960: expected 8 fields, saw 9\\nSkipping line 688961: expected 8 fields, saw 9\\nSkipping line 690950: expected 8 fields, saw 9\\nSkipping line 700890: expected 8 fields, saw 9\\nSkipping line 713686: expected 8 fields, saw 9\\nSkipping line 716899: expected 8 fields, saw 18\\nSkipping line 719526: expected 8 fields, saw 10\\n'\n",
      "b'Skipping line 732136: expected 8 fields, saw 9\\nSkipping line 736188: expected 8 fields, saw 12\\nSkipping line 741732: expected 8 fields, saw 9\\nSkipping line 748566: expected 8 fields, saw 9\\nSkipping line 752230: expected 8 fields, saw 10\\nSkipping line 757421: expected 8 fields, saw 11\\nSkipping line 757430: expected 8 fields, saw 29\\n'\n",
      "b'Skipping line 789329: expected 8 fields, saw 31\\nSkipping line 796733: expected 8 fields, saw 9\\nSkipping line 823552: expected 8 fields, saw 9\\nSkipping line 832340: expected 8 fields, saw 9\\nSkipping line 835059: expected 8 fields, saw 9\\nSkipping line 836351: expected 8 fields, saw 9\\nSkipping line 838652: expected 8 fields, saw 9\\nSkipping line 850643: expected 8 fields, saw 10\\n'\n",
      "b'Skipping line 854845: expected 8 fields, saw 12\\nSkipping line 854922: expected 8 fields, saw 12\\nSkipping line 861383: expected 8 fields, saw 9\\nSkipping line 869817: expected 8 fields, saw 9\\nSkipping line 872169: expected 8 fields, saw 11\\nSkipping line 878734: expected 8 fields, saw 10\\nSkipping line 878744: expected 8 fields, saw 12\\nSkipping line 884129: expected 8 fields, saw 9\\nSkipping line 888340: expected 8 fields, saw 9\\nSkipping line 891544: expected 8 fields, saw 9\\n'\n",
      "b'Skipping line 968928: expected 8 fields, saw 18\\nSkipping line 969005: expected 8 fields, saw 39\\nSkipping line 969012: expected 8 fields, saw 21\\n'\n",
      "b'Skipping line 986138: expected 8 fields, saw 9\\nSkipping line 1001404: expected 8 fields, saw 9\\nSkipping line 1017660: expected 8 fields, saw 10\\nSkipping line 1025362: expected 8 fields, saw 13\\nSkipping line 1033091: expected 8 fields, saw 10\\nSkipping line 1039470: expected 8 fields, saw 9\\nSkipping line 1041551: expected 8 fields, saw 9\\nSkipping line 1041621: expected 8 fields, saw 10\\nSkipping line 1041647: expected 8 fields, saw 10\\n'\n",
      "b'Skipping line 1049812: expected 8 fields, saw 9\\nSkipping line 1104641: expected 8 fields, saw 12\\n'\n",
      "b'Skipping line 1116289: expected 8 fields, saw 13\\nSkipping line 1116293: expected 8 fields, saw 9\\nSkipping line 1126253: expected 8 fields, saw 12\\nSkipping line 1137523: expected 8 fields, saw 12\\nSkipping line 1153784: expected 8 fields, saw 9\\nSkipping line 1154866: expected 8 fields, saw 10\\nSkipping line 1154867: expected 8 fields, saw 11\\nSkipping line 1157888: expected 8 fields, saw 30\\nSkipping line 1172791: expected 8 fields, saw 27\\nSkipping line 1172792: expected 8 fields, saw 9\\nSkipping line 1173187: expected 8 fields, saw 9\\n'\n",
      "b'Skipping line 1202420: expected 8 fields, saw 9\\nSkipping line 1207747: expected 8 fields, saw 10\\nSkipping line 1229464: expected 8 fields, saw 9\\n'\n",
      "b'Skipping line 1249017: expected 8 fields, saw 9\\nSkipping line 1253190: expected 8 fields, saw 10\\nSkipping line 1260420: expected 8 fields, saw 11\\n'\n",
      "b'Skipping line 1350486: expected 8 fields, saw 10\\nSkipping line 1350491: expected 8 fields, saw 17\\nSkipping line 1359267: expected 8 fields, saw 9\\nSkipping line 1366584: expected 8 fields, saw 9\\nSkipping line 1367189: expected 8 fields, saw 9\\n'\n",
      "b'Skipping line 1394279: expected 8 fields, saw 12\\nSkipping line 1427042: expected 8 fields, saw 9\\nSkipping line 1437339: expected 8 fields, saw 11\\nSkipping line 1437896: expected 8 fields, saw 9\\n'\n"
     ]
    },
    {
     "name": "stderr",
     "output_type": "stream",
     "text": [
      "b'Skipping line 1447044: expected 8 fields, saw 30\\nSkipping line 1449921: expected 8 fields, saw 9\\nSkipping line 1452852: expected 8 fields, saw 9\\nSkipping line 1456360: expected 8 fields, saw 10\\nSkipping line 1470357: expected 8 fields, saw 9\\nSkipping line 1486157: expected 8 fields, saw 9\\nSkipping line 1492016: expected 8 fields, saw 9\\nSkipping line 1499913: expected 8 fields, saw 9\\n'\n",
      "b'Skipping line 1517925: expected 8 fields, saw 9\\nSkipping line 1559314: expected 8 fields, saw 9\\nSkipping line 1568491: expected 8 fields, saw 9\\nSkipping line 1569058: expected 8 fields, saw 11\\nSkipping line 1569749: expected 8 fields, saw 13\\n'\n",
      "b'Skipping line 1606444: expected 8 fields, saw 9\\nSkipping line 1620271: expected 8 fields, saw 9\\nSkipping line 1624144: expected 8 fields, saw 9\\nSkipping line 1626359: expected 8 fields, saw 9\\nSkipping line 1635375: expected 8 fields, saw 9\\nSkipping line 1636114: expected 8 fields, saw 9\\nSkipping line 1636138: expected 8 fields, saw 13\\n'\n",
      "b'Skipping line 1670730: expected 8 fields, saw 10\\nSkipping line 1699071: expected 8 fields, saw 21\\n'\n",
      "b'Skipping line 1768865: expected 8 fields, saw 9\\nSkipping line 1769251: expected 8 fields, saw 9\\nSkipping line 1769253: expected 8 fields, saw 9\\n'\n",
      "b'Skipping line 1782059: expected 8 fields, saw 11\\nSkipping line 1783896: expected 8 fields, saw 12\\nSkipping line 1786045: expected 8 fields, saw 9\\nSkipping line 1815443: expected 8 fields, saw 15\\nSkipping line 1820769: expected 8 fields, saw 9\\nSkipping line 1827898: expected 8 fields, saw 11\\n'\n",
      "b'Skipping line 1841157: expected 8 fields, saw 10\\nSkipping line 1858293: expected 8 fields, saw 13\\nSkipping line 1871333: expected 8 fields, saw 34\\nSkipping line 1882087: expected 8 fields, saw 10\\nSkipping line 1899544: expected 8 fields, saw 9\\n'\n",
      "b'Skipping line 1906984: expected 8 fields, saw 9\\nSkipping line 1909906: expected 8 fields, saw 9\\nSkipping line 1911203: expected 8 fields, saw 9\\nSkipping line 1917862: expected 8 fields, saw 9\\nSkipping line 1925820: expected 8 fields, saw 10\\nSkipping line 1933022: expected 8 fields, saw 81\\nSkipping line 1942602: expected 8 fields, saw 9\\nSkipping line 1942692: expected 8 fields, saw 12\\nSkipping line 1945121: expected 8 fields, saw 9\\nSkipping line 1962529: expected 8 fields, saw 9\\n'\n",
      "b'Skipping line 1990054: expected 8 fields, saw 9\\nSkipping line 1998588: expected 8 fields, saw 9\\nSkipping line 2001410: expected 8 fields, saw 10\\nSkipping line 2001795: expected 8 fields, saw 11\\nSkipping line 2005764: expected 8 fields, saw 18\\nSkipping line 2009491: expected 8 fields, saw 11\\nSkipping line 2015237: expected 8 fields, saw 9\\n'\n",
      "b'Skipping line 2032139: expected 8 fields, saw 18\\nSkipping line 2078393: expected 8 fields, saw 9\\nSkipping line 2078567: expected 8 fields, saw 13\\nSkipping line 2079259: expected 8 fields, saw 43\\nSkipping line 2085150: expected 8 fields, saw 9\\n'\n"
     ]
    }
   ],
   "source": [
    "data_dir = \"Data/transaction4.csv\"\n",
    "data = pd.read_csv(data_dir, error_bad_lines=False)"
   ]
  },
  {
   "cell_type": "code",
   "execution_count": 3,
   "metadata": {},
   "outputs": [
    {
     "data": {
      "text/html": [
       "<div>\n",
       "<style scoped>\n",
       "    .dataframe tbody tr th:only-of-type {\n",
       "        vertical-align: middle;\n",
       "    }\n",
       "\n",
       "    .dataframe tbody tr th {\n",
       "        vertical-align: top;\n",
       "    }\n",
       "\n",
       "    .dataframe thead th {\n",
       "        text-align: right;\n",
       "    }\n",
       "</style>\n",
       "<table border=\"1\" class=\"dataframe\">\n",
       "  <thead>\n",
       "    <tr style=\"text-align: right;\">\n",
       "      <th></th>\n",
       "      <th>payer</th>\n",
       "      <th>receiver</th>\n",
       "      <th>tran_text</th>\n",
       "      <th>year</th>\n",
       "      <th>month</th>\n",
       "      <th>day</th>\n",
       "      <th>privacy setting</th>\n",
       "      <th>Unnamed: 7</th>\n",
       "    </tr>\n",
       "  </thead>\n",
       "  <tbody>\n",
       "    <tr>\n",
       "      <th>0</th>\n",
       "      <td>abacbefabc833a96597289665268d99e58ee1b2e4550dd...</td>\n",
       "      <td>9c044a510cd7333bda6da6a2a364372974a0a8a573ac3f...</td>\n",
       "      <td>:Italy:</td>\n",
       "      <td>2019</td>\n",
       "      <td>1</td>\n",
       "      <td>21</td>\n",
       "      <td>unknown</td>\n",
       "      <td>NaN</td>\n",
       "    </tr>\n",
       "    <tr>\n",
       "      <th>1</th>\n",
       "      <td>f0bf2b3ec1598e6ab6ef15ea0251328ca3731e237bdb49...</td>\n",
       "      <td>abacbefabc833a96597289665268d99e58ee1b2e4550dd...</td>\n",
       "      <td>Heroics</td>\n",
       "      <td>2019</td>\n",
       "      <td>1</td>\n",
       "      <td>19</td>\n",
       "      <td>unknown</td>\n",
       "      <td>NaN</td>\n",
       "    </tr>\n",
       "    <tr>\n",
       "      <th>2</th>\n",
       "      <td>abacbefabc833a96597289665268d99e58ee1b2e4550dd...</td>\n",
       "      <td>523c406e16c2856eefb065c2ace781a81a608b6e826ca4...</td>\n",
       "      <td>To regain Kosovo</td>\n",
       "      <td>2019</td>\n",
       "      <td>1</td>\n",
       "      <td>18</td>\n",
       "      <td>unknown</td>\n",
       "      <td>NaN</td>\n",
       "    </tr>\n",
       "    <tr>\n",
       "      <th>3</th>\n",
       "      <td>f0bf2b3ec1598e6ab6ef15ea0251328ca3731e237bdb49...</td>\n",
       "      <td>abacbefabc833a96597289665268d99e58ee1b2e4550dd...</td>\n",
       "      <td>Reading at a club</td>\n",
       "      <td>2019</td>\n",
       "      <td>1</td>\n",
       "      <td>18</td>\n",
       "      <td>unknown</td>\n",
       "      <td>NaN</td>\n",
       "    </tr>\n",
       "    <tr>\n",
       "      <th>4</th>\n",
       "      <td>abacbefabc833a96597289665268d99e58ee1b2e4550dd...</td>\n",
       "      <td>f0bf2b3ec1598e6ab6ef15ea0251328ca3731e237bdb49...</td>\n",
       "      <td>For the Culture</td>\n",
       "      <td>2019</td>\n",
       "      <td>1</td>\n",
       "      <td>17</td>\n",
       "      <td>unknown</td>\n",
       "      <td>NaN</td>\n",
       "    </tr>\n",
       "  </tbody>\n",
       "</table>\n",
       "</div>"
      ],
      "text/plain": [
       "                                               payer  \\\n",
       "0  abacbefabc833a96597289665268d99e58ee1b2e4550dd...   \n",
       "1  f0bf2b3ec1598e6ab6ef15ea0251328ca3731e237bdb49...   \n",
       "2  abacbefabc833a96597289665268d99e58ee1b2e4550dd...   \n",
       "3  f0bf2b3ec1598e6ab6ef15ea0251328ca3731e237bdb49...   \n",
       "4  abacbefabc833a96597289665268d99e58ee1b2e4550dd...   \n",
       "\n",
       "                                            receiver          tran_text  year  \\\n",
       "0  9c044a510cd7333bda6da6a2a364372974a0a8a573ac3f...            :Italy:  2019   \n",
       "1  abacbefabc833a96597289665268d99e58ee1b2e4550dd...            Heroics  2019   \n",
       "2  523c406e16c2856eefb065c2ace781a81a608b6e826ca4...   To regain Kosovo  2019   \n",
       "3  abacbefabc833a96597289665268d99e58ee1b2e4550dd...  Reading at a club  2019   \n",
       "4  f0bf2b3ec1598e6ab6ef15ea0251328ca3731e237bdb49...    For the Culture  2019   \n",
       "\n",
       "   month  day privacy setting  Unnamed: 7  \n",
       "0      1   21         unknown         NaN  \n",
       "1      1   19         unknown         NaN  \n",
       "2      1   18         unknown         NaN  \n",
       "3      1   18         unknown         NaN  \n",
       "4      1   17         unknown         NaN  "
      ]
     },
     "execution_count": 3,
     "metadata": {},
     "output_type": "execute_result"
    }
   ],
   "source": [
    "data.head()"
   ]
  },
  {
   "cell_type": "code",
   "execution_count": 4,
   "metadata": {},
   "outputs": [
    {
     "name": "stdout",
     "output_type": "stream",
     "text": [
      "<class 'pandas.core.frame.DataFrame'>\n",
      "RangeIndex: 2155581 entries, 0 to 2155580\n",
      "Data columns (total 8 columns):\n",
      "payer              object\n",
      "receiver           object\n",
      "tran_text          object\n",
      "year               int64\n",
      "month              int64\n",
      "day                int64\n",
      "privacy setting    object\n",
      "Unnamed: 7         float64\n",
      "dtypes: float64(1), int64(3), object(4)\n",
      "memory usage: 131.6+ MB\n"
     ]
    }
   ],
   "source": [
    "data.info()"
   ]
  },
  {
   "cell_type": "code",
   "execution_count": 6,
   "metadata": {},
   "outputs": [
    {
     "data": {
      "text/plain": [
       "array([nan])"
      ]
     },
     "execution_count": 6,
     "metadata": {},
     "output_type": "execute_result"
    }
   ],
   "source": [
    "data[\"Unnamed: 7\"].unique()"
   ]
  },
  {
   "cell_type": "code",
   "execution_count": 7,
   "metadata": {
    "collapsed": true
   },
   "outputs": [],
   "source": [
    "# data['Date']= data['month'].apply(lambda x: str(x)+\"/\") \\\n",
    "#                 + data['day'].apply(lambda x: str(x)+\"/\") \\\n",
    "#                 + data['year'].apply(lambda x: str(x))\n",
    "# data = data.drop(['year', 'day', 'month', 'privacy setting'], axis=1)"
   ]
  },
  {
   "cell_type": "code",
   "execution_count": null,
   "metadata": {
    "collapsed": true
   },
   "outputs": [],
   "source": []
  }
 ],
 "metadata": {
  "kernelspec": {
   "display_name": "Python 3",
   "language": "python",
   "name": "python3"
  },
  "language_info": {
   "codemirror_mode": {
    "name": "ipython",
    "version": 3
   },
   "file_extension": ".py",
   "mimetype": "text/x-python",
   "name": "python",
   "nbconvert_exporter": "python",
   "pygments_lexer": "ipython3",
   "version": "3.6.3"
  },
  "toc": {
   "base_numbering": 1,
   "nav_menu": {},
   "number_sections": true,
   "sideBar": true,
   "skip_h1_title": false,
   "title_cell": "Table of Contents",
   "title_sidebar": "Contents",
   "toc_cell": false,
   "toc_position": {},
   "toc_section_display": true,
   "toc_window_display": false
  }
 },
 "nbformat": 4,
 "nbformat_minor": 2
}
